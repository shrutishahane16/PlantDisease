{
 "cells": [
  {
   "cell_type": "code",
   "execution_count": 36,
   "id": "4b541ce8",
   "metadata": {},
   "outputs": [],
   "source": [
    "import os\n",
    "import tensorflow as tf\n",
    "from tensorflow.keras import models, layers, optimizers\n",
    "from tensorflow.keras.preprocessing.image import ImageDataGenerator\n",
    "from tensorflow.keras.preprocessing import image\n",
    "import numpy as np"
   ]
  },
  {
   "cell_type": "code",
   "execution_count": 37,
   "id": "4a1b842a",
   "metadata": {},
   "outputs": [],
   "source": [
    "# Path to the dataset\n",
    "dataset_path = r'C:\\Users\\shrut\\Desktop\\new'"
   ]
  },
  {
   "cell_type": "code",
   "execution_count": 38,
   "id": "02583d72",
   "metadata": {},
   "outputs": [
    {
     "name": "stdout",
     "output_type": "stream",
     "text": [
      "Found 39377 images belonging to 38 classes.\n",
      "Found 9829 images belonging to 38 classes.\n"
     ]
    }
   ],
   "source": [
    "# Split the data into training (80%) and testing (20%)\n",
    "train_datagen = ImageDataGenerator(rescale=1./255, validation_split=0.2)\n",
    "\n",
    "train_generator = train_datagen.flow_from_directory(\n",
    "    dataset_path,\n",
    "    target_size=(224, 224),\n",
    "    batch_size=32,\n",
    "    class_mode='categorical',\n",
    "    subset='training'\n",
    ")\n",
    "import os\n",
    "import tensorflow as tf\n",
    "from tensorflow.keras import models, layers, optimizers\n",
    "from tensorflow.keras.preprocessing.image import ImageDataGenerator\n",
    "from tensorflow.keras.preprocessing import image\n",
    "import numpy as np\n",
    "val_generator = train_datagen.flow_from_directory(\n",
    "    dataset_path,\n",
    "    target_size=(224, 224),\n",
    "    batch_size=32,\n",
    "    class_mode='categorical',\n",
    "    subset='validation'\n",
    ")\n"
   ]
  },
  {
   "cell_type": "code",
   "execution_count": 39,
   "id": "df50fd03",
   "metadata": {},
   "outputs": [],
   "source": [
    "# Build the CNN model\n",
    "model = models.Sequential()\n",
    "model.add(layers.Conv2D(32, (3, 3), activation='relu', input_shape=(224, 224, 3)))\n",
    "model.add(layers.MaxPooling2D((2, 2)))\n",
    "model.add(layers.Conv2D(64, (3, 3), activation='relu'))\n",
    "model.add(layers.MaxPooling2D((2, 2)))\n",
    "model.add(layers.Conv2D(128, (3, 3), activation='relu'))\n",
    "model.add(layers.MaxPooling2D((2, 2)))\n",
    "model.add(layers.Flatten())\n",
    "model.add(layers.Dense(128, activation='relu'))`\n",
    "model.add(layers.Dropout(0.5))\n",
    "model.add(layers.Dense(38, activation='softmax'))  "
   ]
  },
  {
   "cell_type": "code",
   "execution_count": 40,
   "id": "d8d88448",
   "metadata": {},
   "outputs": [],
   "source": [
    "# Compile the model\n",
    "model.compile(optimizer='adam',\n",
    "              loss='categorical_crossentropy',\n",
    "              metrics=['accuracy'])\n"
   ]
  },
  {
   "cell_type": "code",
   "execution_count": 41,
   "id": "0257aeb8",
   "metadata": {},
   "outputs": [
    {
     "name": "stdout",
     "output_type": "stream",
     "text": [
      "Epoch 1/10\n",
      "1230/1230 [==============================] - 2288s 2s/step - loss: 1.8036 - accuracy: 0.5019 - val_loss: 0.7645 - val_accuracy: 0.7676\n",
      "Epoch 2/10\n",
      "1230/1230 [==============================] - 1375s 1s/step - loss: 0.9789 - accuracy: 0.7020 - val_loss: 0.4858 - val_accuracy: 0.8444\n",
      "Epoch 3/10\n",
      "1230/1230 [==============================] - 2298s 2s/step - loss: 0.7171 - accuracy: 0.7729 - val_loss: 0.4121 - val_accuracy: 0.8687\n",
      "Epoch 4/10\n",
      "1230/1230 [==============================] - 1834s 1s/step - loss: 0.5677 - accuracy: 0.8173 - val_loss: 0.3434 - val_accuracy: 0.8893\n",
      "Epoch 5/10\n",
      "1230/1230 [==============================] - 1036s 842ms/step - loss: 0.4653 - accuracy: 0.8472 - val_loss: 0.3559 - val_accuracy: 0.8888\n",
      "Epoch 6/10\n",
      "1230/1230 [==============================] - 1101s 895ms/step - loss: 0.3919 - accuracy: 0.8710 - val_loss: 0.2626 - val_accuracy: 0.9140\n",
      "Epoch 7/10\n",
      "1230/1230 [==============================] - 1736s 1s/step - loss: 0.3445 - accuracy: 0.8835 - val_loss: 0.3326 - val_accuracy: 0.9019\n",
      "Epoch 8/10\n",
      "1230/1230 [==============================] - 2046s 2s/step - loss: 0.3067 - accuracy: 0.8977 - val_loss: 0.3021 - val_accuracy: 0.9058\n",
      "Epoch 9/10\n",
      "1230/1230 [==============================] - 1930s 2s/step - loss: 0.2691 - accuracy: 0.9095 - val_loss: 0.2417 - val_accuracy: 0.9215\n",
      "Epoch 10/10\n",
      "1230/1230 [==============================] - 1661s 1s/step - loss: 0.2417 - accuracy: 0.9190 - val_loss: 0.2813 - val_accuracy: 0.9178\n"
     ]
    }
   ],
   "source": [
    "# Train the model\n",
    "history = model.fit(\n",
    "    train_generator,\n",
    "    steps_per_epoch=train_generator.samples // 32,\n",
    "    epochs=10,\n",
    "    validation_data=val_generator,\n",
    "    validation_steps=val_generator.samples // 32\n",
    ")"
   ]
  },
  {
   "cell_type": "code",
   "execution_count": 42,
   "id": "9b6be138",
   "metadata": {},
   "outputs": [],
   "source": [
    "# Save the trained model\n",
    "model.save('plant_species_disease_model.h5')"
   ]
  },
  {
   "cell_type": "code",
   "execution_count": 43,
   "id": "071873cb",
   "metadata": {},
   "outputs": [],
   "source": [
    "# Load the saved model for testing\n",
    "model = models.load_model('plant_species_disease_model.h5')"
   ]
  },
  {
   "cell_type": "code",
   "execution_count": 44,
   "id": "cd525521",
   "metadata": {},
   "outputs": [],
   "source": [
    "# Image path for testing\n",
    "test_image_path = r'C:/Users/shrut/Desktop/new/Tomato___Bacterial_spot/0c09c121-e945-4b7e-acbf-dff4e0d01acb___GCREC_Bact.Sp 3379.JPG'"
   ]
  },
  {
   "cell_type": "code",
   "execution_count": 45,
   "id": "2499811b",
   "metadata": {},
   "outputs": [],
   "source": [
    "# Load and preprocess the image for prediction\n",
    "img = image.load_img(test_image_path, target_size=(224, 224))\n",
    "img_array = image.img_to_array(img)\n",
    "img_array = np.expand_dims(img_array, axis=0)\n",
    "img_array /= 255.0  # Normalize the pixel values"
   ]
  },
  {
   "cell_type": "code",
   "execution_count": 46,
   "id": "087419e6",
   "metadata": {},
   "outputs": [
    {
     "name": "stdout",
     "output_type": "stream",
     "text": [
      "1/1 [==============================] - 1s 510ms/step\n"
     ]
    }
   ],
   "source": [
    "# Make a prediction\n",
    "predictions = model.predict(img_array)"
   ]
  },
  {
   "cell_type": "code",
   "execution_count": 47,
   "id": "dbdbc15a",
   "metadata": {},
   "outputs": [],
   "source": [
    "# Get the class with the highest probability\n",
    "predicted_class_index = np.argmax(predictions[0])"
   ]
  },
  {
   "cell_type": "code",
   "execution_count": 48,
   "id": "d3b3a629",
   "metadata": {},
   "outputs": [],
   "source": [
    "# Map the predicted class index to the class label\n",
    "class_labels = list(train_generator.class_indices.keys())\n",
    "predicted_class_label = class_labels[predicted_class_index]"
   ]
  },
  {
   "cell_type": "code",
   "execution_count": 49,
   "id": "cdce0336",
   "metadata": {},
   "outputs": [
    {
     "name": "stdout",
     "output_type": "stream",
     "text": [
      "Predicted class: Tomato___Bacterial_spot\n"
     ]
    }
   ],
   "source": [
    "print(f\"Predicted class: {predicted_class_label}\")"
   ]
  },
  {
   "cell_type": "code",
   "execution_count": null,
   "id": "1fe511f5",
   "metadata": {},
   "outputs": [],
   "source": []
  },
  {
   "cell_type": "code",
   "execution_count": null,
   "id": "4962b3a1",
   "metadata": {},
   "outputs": [],
   "source": []
  }
 ],
 "metadata": {
  "kernelspec": {
   "display_name": "Python 3 (ipykernel)",
   "language": "python",
   "name": "python3"
  },
  "language_info": {
   "codemirror_mode": {
    "name": "ipython",
    "version": 3
   },
   "file_extension": ".py",
   "mimetype": "text/x-python",
   "name": "python",
   "nbconvert_exporter": "python",
   "pygments_lexer": "ipython3",
   "version": "3.10.9"
  }
 },
 "nbformat": 4,
 "nbformat_minor": 5
}
